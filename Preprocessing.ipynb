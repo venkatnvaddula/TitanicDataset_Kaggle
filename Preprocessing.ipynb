{
 "cells": [
  {
   "cell_type": "code",
   "execution_count": 1,
   "metadata": {
    "collapsed": true
   },
   "outputs": [],
   "source": [
    "import pandas as pd\n",
    "import numpy as np\n",
    "import matplotlib.pyplot as plt"
   ]
  },
  {
   "cell_type": "code",
   "execution_count": 2,
   "metadata": {
    "collapsed": true
   },
   "outputs": [],
   "source": [
    "train = pd.read_csv('C:\\\\Users\\\\venka\\\\Desktop\\\\Kaggle\\\\Titanic\\\\train.csv')\n",
    "test = pd.read_csv('C:\\\\Users\\\\venka\\\\Desktop\\\\Kaggle\\\\Titanic\\\\test.csv')"
   ]
  },
  {
   "cell_type": "code",
   "execution_count": 3,
   "metadata": {},
   "outputs": [
    {
     "name": "stdout",
     "output_type": "stream",
     "text": [
      "   PassengerId  Survived  Pclass  \\\n",
      "0            1         0       3   \n",
      "1            2         1       1   \n",
      "2            3         1       3   \n",
      "3            4         1       1   \n",
      "4            5         0       3   \n",
      "\n",
      "                                                Name     Sex   Age  SibSp  \\\n",
      "0                            Braund, Mr. Owen Harris    male  22.0      1   \n",
      "1  Cumings, Mrs. John Bradley (Florence Briggs Th...  female  38.0      1   \n",
      "2                             Heikkinen, Miss. Laina  female  26.0      0   \n",
      "3       Futrelle, Mrs. Jacques Heath (Lily May Peel)  female  35.0      1   \n",
      "4                           Allen, Mr. William Henry    male  35.0      0   \n",
      "\n",
      "   Parch            Ticket     Fare Cabin Embarked  \n",
      "0      0         A/5 21171   7.2500   NaN        S  \n",
      "1      0          PC 17599  71.2833   C85        C  \n",
      "2      0  STON/O2. 3101282   7.9250   NaN        S  \n",
      "3      0            113803  53.1000  C123        S  \n",
      "4      0            373450   8.0500   NaN        S  \n",
      "---------------------------------------------------------------\n",
      "   Embarked__C  Embarked__Q  Embarked__S\n",
      "0            0            0            1\n",
      "1            1            0            0\n",
      "2            0            0            1\n",
      "3            0            0            1\n",
      "4            0            0            1\n"
     ]
    }
   ],
   "source": [
    "print(train.head())\n",
    "print('---------------------------------------------------------------')\n",
    "print(pd.get_dummies(train['Embarked'],prefix='Embarked_').head())"
   ]
  },
  {
   "cell_type": "code",
   "execution_count": 4,
   "metadata": {},
   "outputs": [
    {
     "name": "stdout",
     "output_type": "stream",
     "text": [
      "(891, 12)\n",
      "Feature Name has 891 unique values\n",
      "Feature Sex has 2 unique values\n",
      "Feature Ticket has 681 unique values\n",
      "Feature Cabin has 148 unique values\n",
      "Feature Embarked has 4 unique values\n"
     ]
    }
   ],
   "source": [
    "## Finding details of features (Cocentrate on Categorical)\n",
    "print(train.shape)\n",
    "for colname in train.columns:\n",
    "    if train[colname].dtype == 'object':\n",
    "        nUnique = len(train[colname].unique())\n",
    "        #print(train[colname].value_counts())\n",
    "        print('Feature',colname,'has',nUnique, 'unique values')\n",
    "\n",
    "#print(len(train['Embarked'].unique()))\n",
    "#print(train['Embarked'].value_counts())"
   ]
  },
  {
   "cell_type": "code",
   "execution_count": 5,
   "metadata": {},
   "outputs": [
    {
     "name": "stdout",
     "output_type": "stream",
     "text": [
      "S    644\n",
      "C    168\n",
      "Q     77\n",
      "Name: Embarked, dtype: int64\n",
      "---------------------------------------------------------------\n",
      "Embarked    2\n",
      "dtype: int64\n",
      "Embarked    0\n",
      "dtype: int64\n",
      "0    0\n",
      "1    1\n",
      "2    0\n",
      "3    0\n",
      "4    0\n",
      "Name: Embarked, dtype: int32\n",
      "0    646\n",
      "1    168\n",
      "2     77\n",
      "Name: Embarked, dtype: int64\n"
     ]
    }
   ],
   "source": [
    "print(train['Embarked'].value_counts().sort_values(ascending=False))\n",
    "print('---------------------------------------------------------------')\n",
    "print(train[['Embarked']].isnull().sum())\n",
    "train['Embarked'].fillna('S',inplace=True)\n",
    "print(train[['Embarked']].isnull().sum())\n",
    "train['Embarked'] = train['Embarked'].map({'S':0,'C':1,'Q':2}).astype(int)\n",
    "test['Embarked'] = test['Embarked'].map({'S':0,'C':1,'Q':2}).astype(int)\n",
    "print(train['Embarked'].head())\n",
    "print(train['Embarked'].value_counts().sort_values(ascending=False))"
   ]
  },
  {
   "cell_type": "code",
   "execution_count": 6,
   "metadata": {},
   "outputs": [
    {
     "name": "stdout",
     "output_type": "stream",
     "text": [
      "(891, 12) (418, 11)\n",
      "PassengerId      0\n",
      "Survived         0\n",
      "Pclass           0\n",
      "Name             0\n",
      "Sex              0\n",
      "Age            177\n",
      "SibSp            0\n",
      "Parch            0\n",
      "Ticket           0\n",
      "Fare             0\n",
      "Cabin          687\n",
      "Embarked         0\n",
      "dtype: int64\n",
      "PassengerId      0\n",
      "Pclass           0\n",
      "Name             0\n",
      "Sex              0\n",
      "Age             86\n",
      "SibSp            0\n",
      "Parch            0\n",
      "Ticket           0\n",
      "Fare             1\n",
      "Cabin          327\n",
      "Embarked         0\n",
      "dtype: int64\n"
     ]
    }
   ],
   "source": [
    "print(train.shape,test.shape)\n",
    "print(train.isnull().sum())\n",
    "print(test.isnull().sum())"
   ]
  },
  {
   "cell_type": "code",
   "execution_count": 7,
   "metadata": {},
   "outputs": [],
   "source": [
    "test['Fare'].fillna(inplace=True,value=test['Fare'].mean())\n",
    "train['Age'].fillna(inplace=True,value=train['Age'].median())\n",
    "test['Age'].fillna(inplace=True,value=test['Age'].median())"
   ]
  },
  {
   "cell_type": "code",
   "execution_count": 8,
   "metadata": {},
   "outputs": [],
   "source": [
    "#print(train.head())\n",
    "train['Sex'] = train['Sex'].map({'female':0,'male':1}).astype(int)\n",
    "test['Sex'] = test['Sex'].map({'female':0,'male':1}).astype(int)"
   ]
  },
  {
   "cell_type": "code",
   "execution_count": 9,
   "metadata": {},
   "outputs": [
    {
     "name": "stdout",
     "output_type": "stream",
     "text": [
      "   PassengerId  Survived  Pclass  \\\n",
      "0            1         0       3   \n",
      "1            2         1       1   \n",
      "2            3         1       3   \n",
      "3            4         1       1   \n",
      "4            5         0       3   \n",
      "\n",
      "                                                Name  Sex   Age  SibSp  Parch  \\\n",
      "0                            Braund, Mr. Owen Harris    1  22.0      1      0   \n",
      "1  Cumings, Mrs. John Bradley (Florence Briggs Th...    0  38.0      1      0   \n",
      "2                             Heikkinen, Miss. Laina    0  26.0      0      0   \n",
      "3       Futrelle, Mrs. Jacques Heath (Lily May Peel)    0  35.0      1      0   \n",
      "4                           Allen, Mr. William Henry    1  35.0      0      0   \n",
      "\n",
      "             Ticket     Fare Cabin  Embarked  \n",
      "0         A/5 21171   7.2500   NaN         0  \n",
      "1          PC 17599  71.2833   C85         1  \n",
      "2  STON/O2. 3101282   7.9250   NaN         0  \n",
      "3            113803  53.1000  C123         0  \n",
      "4            373450   8.0500   NaN         0  \n"
     ]
    }
   ],
   "source": [
    "print(train.head())"
   ]
  },
  {
   "cell_type": "code",
   "execution_count": 10,
   "metadata": {},
   "outputs": [],
   "source": [
    "train.drop('Cabin',1,inplace=True)\n",
    "test.drop('Cabin',1,inplace=True)"
   ]
  },
  {
   "cell_type": "code",
   "execution_count": 11,
   "metadata": {},
   "outputs": [
    {
     "name": "stderr",
     "output_type": "stream",
     "text": [
      "c:\\users\\venka\\python36\\lib\\site-packages\\ipykernel_launcher.py:5: SettingWithCopyWarning: \n",
      "A value is trying to be set on a copy of a slice from a DataFrame\n",
      "\n",
      "See the caveats in the documentation: http://pandas.pydata.org/pandas-docs/stable/indexing.html#indexing-view-versus-copy\n",
      "  \"\"\"\n"
     ]
    },
    {
     "name": "stdout",
     "output_type": "stream",
     "text": [
      "Mr.             502\n",
      "Miss.           179\n",
      "Mrs.            121\n",
      "Master.          40\n",
      "Dr.               7\n",
      "Rev.              6\n",
      "y                 4\n",
      "Planke,           3\n",
      "Impe,             3\n",
      "Col.              2\n",
      "Mlle.             2\n",
      "Major.            2\n",
      "Gordon,           2\n",
      "Jonkheer.         1\n",
      "Velde,            1\n",
      "the               1\n",
      "Mulder,           1\n",
      "Mme.              1\n",
      "Billiard,         1\n",
      "Capt.             1\n",
      "Walle,            1\n",
      "der               1\n",
      "Melkebeke,        1\n",
      "Carlo,            1\n",
      "Ms.               1\n",
      "Steen,            1\n",
      "Cruyssen,         1\n",
      "Messemaeker,      1\n",
      "Shawah,           1\n",
      "Pelsmaeker,       1\n",
      "Don.              1\n",
      "Name: Name, dtype: int64\n"
     ]
    }
   ],
   "source": [
    "train.head()\n",
    "#train[['Ticket','Survived']].groupby('Ticket').mean()\n",
    "for i in range(train.shape[0]):\n",
    "    stir = train['Name'][i]\n",
    "    train['Name'][i] = stir.split(' ')[1]\n",
    "print(train['Name'].value_counts())"
   ]
  },
  {
   "cell_type": "code",
   "execution_count": 12,
   "metadata": {},
   "outputs": [
    {
     "name": "stderr",
     "output_type": "stream",
     "text": [
      "c:\\users\\venka\\python36\\lib\\site-packages\\ipykernel_launcher.py:3: SettingWithCopyWarning: \n",
      "A value is trying to be set on a copy of a slice from a DataFrame\n",
      "\n",
      "See the caveats in the documentation: http://pandas.pydata.org/pandas-docs/stable/indexing.html#indexing-view-versus-copy\n",
      "  This is separate from the ipykernel package so we can avoid doing imports until\n"
     ]
    },
    {
     "name": "stdout",
     "output_type": "stream",
     "text": [
      "Mr.             234\n",
      "Miss.            77\n",
      "Mrs.             70\n",
      "Master.          19\n",
      "y                 4\n",
      "Col.              2\n",
      "Rev.              2\n",
      "Billiard,         2\n",
      "Dr.               1\n",
      "Palmquist,        1\n",
      "Carlo,            1\n",
      "Messemaeker,      1\n",
      "Planke,           1\n",
      "Brito,            1\n",
      "Ms.               1\n",
      "Khalil,           1\n",
      "Name: Name, dtype: int64\n"
     ]
    }
   ],
   "source": [
    "for i in range(test.shape[0]):\n",
    "    stir = test['Name'][i]\n",
    "    test['Name'][i] = stir.split(' ')[1]\n",
    "print(test['Name'].value_counts())"
   ]
  },
  {
   "cell_type": "code",
   "execution_count": null,
   "metadata": {},
   "outputs": [],
   "source": [
    "891-502-179-121-40-7-6"
   ]
  },
  {
   "cell_type": "code",
   "execution_count": 13,
   "metadata": {},
   "outputs": [
    {
     "name": "stdout",
     "output_type": "stream",
     "text": [
      "Mr.        234\n",
      "Miss.       77\n",
      "Mrs.        70\n",
      "Master.     19\n",
      "other       15\n",
      "Rev.         2\n",
      "Dr.          1\n",
      "Name: Name, dtype: int64\n",
      "Mr.        502\n",
      "Miss.      179\n",
      "Mrs.       121\n",
      "Master.     40\n",
      "other       36\n",
      "Dr.          7\n",
      "Rev.         6\n",
      "Name: Name, dtype: int64\n"
     ]
    }
   ],
   "source": [
    "for i in [train,test]:\n",
    "    i['Name'] = [x if x in ['Mr.','Miss.','Mrs.','Master.','Dr.','Rev.'] else 'other' for x in i['Name']]\n",
    "print(test['Name'].value_counts())\n",
    "print(train['Name'].value_counts())\n",
    "train1 = train.copy()\n",
    "test1 = test.copy()"
   ]
  },
  {
   "cell_type": "code",
   "execution_count": 17,
   "metadata": {
    "scrolled": true
   },
   "outputs": [
    {
     "name": "stdout",
     "output_type": "stream",
     "text": [
      "Index(['PassengerId', 'Pclass', 'Name', 'Sex', 'Age', 'SibSp', 'Parch',\n",
      "       'Ticket', 'Fare', 'Embarked', 'Name_Dr.', 'Name_Master.', 'Name_Miss.',\n",
      "       'Name_Mr.', 'Name_Mrs.', 'Name_Rev.', 'Name_other'],\n",
      "      dtype='object') Index(['PassengerId', 'Survived', 'Pclass', 'Name', 'Sex', 'Age', 'SibSp',\n",
      "       'Parch', 'Ticket', 'Fare', 'Embarked', 'Name_Dr.', 'Name_Master.',\n",
      "       'Name_Miss.', 'Name_Mr.', 'Name_Mrs.', 'Name_Rev.', 'Name_other'],\n",
      "      dtype='object')\n"
     ]
    }
   ],
   "source": [
    "lis = ['Name']\n",
    "def getDummies(df,colList):\n",
    "    for i in colList:\n",
    "        df_dummies = pd.get_dummies(df[i], prefix='Name',dummy_na=False)\n",
    "        #print(df_dummies.head())\n",
    "        #i.drop('Name',1,inplace=True)\n",
    "        df = pd.concat([df,df_dummies],axis=1)\n",
    "    return df\n",
    "test1 = getDummies(test1,lis)\n",
    "train1 = getDummies(train1,lis)\n",
    "print(test1.columns,train1.columns)"
   ]
  },
  {
   "cell_type": "code",
   "execution_count": 18,
   "metadata": {},
   "outputs": [],
   "source": [
    "test1.drop(lis,1,inplace=True)\n",
    "train1.drop(lis,1,inplace=True)"
   ]
  },
  {
   "cell_type": "code",
   "execution_count": 52,
   "metadata": {},
   "outputs": [
    {
     "name": "stdout",
     "output_type": "stream",
     "text": [
      "Int        661\n",
      "Not int    230\n",
      "dtype: int64\n"
     ]
    }
   ],
   "source": [
    "#train1['Ticket'].sort_values(ascending=False)[:200]\n",
    "lis = []\n",
    "for i in train['Ticket']:\n",
    "    curr = 0\n",
    "    try:\n",
    "        curr = int(i)\n",
    "        lis.append('Int')\n",
    "    except(ValueError):\n",
    "        lis.append('Not int')\n",
    "    #lis.append(type(curr))\n",
    "    #print(type(curr))\n",
    "df = pd.Series(lis)\n",
    "print(df.value_counts())"
   ]
  },
  {
   "cell_type": "code",
   "execution_count": 67,
   "metadata": {},
   "outputs": [
    {
     "data": {
      "text/plain": [
       "0      Not int\n",
       "1      Not int\n",
       "2      Not int\n",
       "3          Int\n",
       "4          Int\n",
       "5          Int\n",
       "6          Int\n",
       "7          Int\n",
       "8          Int\n",
       "9          Int\n",
       "10     Not int\n",
       "11         Int\n",
       "12     Not int\n",
       "13         Int\n",
       "14         Int\n",
       "15         Int\n",
       "16         Int\n",
       "17         Int\n",
       "18         Int\n",
       "19         Int\n",
       "20         Int\n",
       "21         Int\n",
       "22         Int\n",
       "23         Int\n",
       "24         Int\n",
       "25         Int\n",
       "26         Int\n",
       "27         Int\n",
       "28         Int\n",
       "29         Int\n",
       "        ...   \n",
       "861        Int\n",
       "862        Int\n",
       "863    Not int\n",
       "864        Int\n",
       "865        Int\n",
       "866    Not int\n",
       "867    Not int\n",
       "868        Int\n",
       "869        Int\n",
       "870        Int\n",
       "871        Int\n",
       "872        Int\n",
       "873        Int\n",
       "874    Not int\n",
       "875        Int\n",
       "876        Int\n",
       "877        Int\n",
       "878        Int\n",
       "879        Int\n",
       "880        Int\n",
       "881        Int\n",
       "882        Int\n",
       "883    Not int\n",
       "884    Not int\n",
       "885        Int\n",
       "886        Int\n",
       "887        Int\n",
       "888    Not int\n",
       "889        Int\n",
       "890        Int\n",
       "Name: tick, Length: 891, dtype: object"
      ]
     },
     "execution_count": 67,
     "metadata": {},
     "output_type": "execute_result"
    }
   ],
   "source": [
    "train1['tick'] = df\n",
    "train1['tick']"
   ]
  },
  {
   "cell_type": "code",
   "execution_count": 70,
   "metadata": {},
   "outputs": [],
   "source": [
    "test1.drop('Ticket',1,inplace=True)\n",
    "train1.drop(['Ticket','tick'],1,inplace=True)"
   ]
  },
  {
   "cell_type": "code",
   "execution_count": 95,
   "metadata": {},
   "outputs": [],
   "source": [
    "test1.drop('PassengerId',1,inplace=True)\n",
    "train1.drop(['PassengerId'],1,inplace=True)"
   ]
  },
  {
   "cell_type": "code",
   "execution_count": 73,
   "metadata": {
    "collapsed": true
   },
   "outputs": [],
   "source": [
    "from sklearn.model_selection import StratifiedShuffleSplit\n",
    "from sklearn.metrics import accuracy_score, log_loss\n",
    "from sklearn.neighbors import KNeighborsClassifier\n",
    "from sklearn.svm import SVC\n",
    "from sklearn.tree import DecisionTreeClassifier\n",
    "from sklearn.ensemble import RandomForestClassifier, AdaBoostClassifier, GradientBoostingClassifier\n",
    "from sklearn.naive_bayes import GaussianNB\n",
    "from sklearn.discriminant_analysis import LinearDiscriminantAnalysis, QuadraticDiscriminantAnalysis\n",
    "from sklearn.linear_model import LogisticRegression"
   ]
  },
  {
   "cell_type": "code",
   "execution_count": 74,
   "metadata": {
    "collapsed": true
   },
   "outputs": [],
   "source": [
    "classifiers = [\n",
    "    KNeighborsClassifier(3),\n",
    "    SVC(probability=True),\n",
    "    DecisionTreeClassifier(),\n",
    "    RandomForestClassifier(),\n",
    "\tAdaBoostClassifier(),\n",
    "    GradientBoostingClassifier(),\n",
    "    GaussianNB(),\n",
    "    LinearDiscriminantAnalysis(),\n",
    "    QuadraticDiscriminantAnalysis(),\n",
    "    LogisticRegression()]"
   ]
  },
  {
   "cell_type": "code",
   "execution_count": 96,
   "metadata": {},
   "outputs": [],
   "source": [
    "trainX = train1.drop('Survived',1)\n",
    "trainY = train1['Survived']\n",
    "testData = test1"
   ]
  },
  {
   "cell_type": "code",
   "execution_count": 78,
   "metadata": {
    "collapsed": true
   },
   "outputs": [],
   "source": [
    "sss = StratifiedShuffleSplit(n_splits=10, test_size=0.1, random_state=0)"
   ]
  },
  {
   "cell_type": "code",
   "execution_count": 79,
   "metadata": {
    "collapsed": true
   },
   "outputs": [],
   "source": [
    "acc_dict = {}\n",
    "log_cols = [\"Classifier\", \"Accuracy\"]"
   ]
  },
  {
   "cell_type": "code",
   "execution_count": null,
   "metadata": {
    "scrolled": true
   },
   "outputs": [],
   "source": [
    "for trIndex,tsIndex in sss.split(trainX,trainY):\n",
    "    Xtrain, Xtest = trainX.iloc[trIndex,],trainX.iloc[tsIndex,]\n",
    "    Ytrain, Ytest = trainY[trIndex],trainY[tsIndex]\n",
    "    \n",
    "    for i,clf in enumerate(classifiers):\n",
    "        name = clf.__class__.__name__\n",
    "        clf.fit(Xtrain, Ytrain)\n",
    "        testPred = clf.predict(Xtest)\n",
    "        acc = accuracy_score(Ytest, testPred)\n",
    "        if name in acc_dict:\n",
    "            acc_dict[name] += acc\n",
    "        else:\n",
    "            acc_dict[name] = acc\n",
    "#print(acc_dict)\"\n",
    "log  = pd.DataFrame(columns=log_cols)\n",
    "for i,clf in enumerate(acc_dict):\n",
    "    acc_dict[clf] = acc_dict[clf]/10.0\n",
    "    #print(i,clf,acc_dict[clf])\n",
    "    singleEntry = pd.DataFrame([[clf,acc_dict[clf]]],columns=log_cols)\n",
    "    log = log.append(singleEntry)\n",
    "    \n",
    "print(log)"
   ]
  },
  {
   "cell_type": "code",
   "execution_count": 103,
   "metadata": {},
   "outputs": [
    {
     "name": "stdout",
     "output_type": "stream",
     "text": [
      "Index(['Pclass', 'Sex', 'Age', 'SibSp', 'Parch', 'Fare', 'Embarked',\n",
      "       'Name_Dr.', 'Name_Master.', 'Name_Miss.', 'Name_Mr.', 'Name_Mrs.',\n",
      "       'Name_Rev.', 'Name_other'],\n",
      "      dtype='object')\n"
     ]
    },
    {
     "data": {
      "image/png": "[encoded data removed]",
      "text/plain": [
       "<matplotlib.figure.Figure at 0x23df2416828>"
      ]
     },
     "metadata": {},
     "output_type": "display_data"
    }
   ],
   "source": [
    "import seaborn as sns\n",
    "plt.xlabel('Accuracy')\n",
    "plt.title('Classifier Accuracy')\n",
    "print(trainX.columns)\n",
    "sns.set_color_codes(\"muted\")\n",
    "sns.barplot(x='Accuracy', y='Classifier', data=log, color=\"b\")\n",
    "plt.show()"
   ]
  },
  {
   "cell_type": "code",
   "execution_count": null,
   "metadata": {
    "scrolled": false
   },
   "outputs": [
    {
     "name": "stdout",
     "output_type": "stream",
     "text": [
      "[LibSVM]"
     ]
    }
   ],
   "source": [
    "selectedParams = ['Sex']\n",
    "#finalCLF = LogisticRegression()\n",
    "finalCLF = SVC(tol=1e-75,verbose=True,probability=True)\n",
    "finalCLF.fit(trainX,trainY)\n",
    "preds = finalCLF.predict(testData)\n",
    "submission = pd.read_csv('C:\\\\Users\\\\venka\\\\Desktop\\\\Kaggle\\\\Titanic\\\\submission.csv')\n",
    "submission['Survived'] = preds\n",
    "print(submission.describe())\n",
    "submission.to_csv('C:\\\\Users\\\\venka\\\\Desktop\\\\Kaggle\\\\Titanic\\\\CleanedData_SVC.csv',index=False)"
   ]
  },
  {
   "cell_type": "code",
   "execution_count": null,
   "metadata": {
    "collapsed": true
   },
   "outputs": [],
   "source": [
    "55/8"
   ]
  },
  {
   "cell_type": "code",
   "execution_count": null,
   "metadata": {
    "collapsed": true
   },
   "outputs": [],
   "source": []
  }
 ],
 "metadata": {
  "kernelspec": {
   "display_name": "Python 3",
   "language": "python",
   "name": "python3"
  },
  "language_info": {
   "codemirror_mode": {
    "name": "ipython",
    "version": 3
   },
   "file_extension": ".py",
   "mimetype": "text/x-python",
   "name": "python",
   "nbconvert_exporter": "python",
   "pygments_lexer": "ipython3",
   "version": "3.6.1"
  }
 },
 "nbformat": 4,
 "nbformat_minor": 2
}
