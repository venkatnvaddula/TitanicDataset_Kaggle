{
 "cells": [
  {
   "cell_type": "code",
   "execution_count": null,
   "metadata": {
    "collapsed": true
   },
   "outputs": [],
   "source": [
    "import pandas as pd\n",
    "import numpy as np\n",
    "import matplotlib.pyplot as plt"
   ]
  },
  {
   "cell_type": "code",
   "execution_count": null,
   "metadata": {
    "collapsed": true
   },
   "outputs": [],
   "source": [
    "train = pd.read_csv('C:\\\\Users\\\\venka\\\\Desktop\\\\Kaggle\\\\Titanic\\\\train.csv')\n",
    "test = pd.read_csv('C:\\\\Users\\\\venka\\\\Desktop\\\\Kaggle\\\\Titanic\\\\test.csv')"
   ]
  },
  {
   "cell_type": "code",
   "execution_count": null,
   "metadata": {},
   "outputs": [],
   "source": [
    "print(train.head())\n",
    "print('---------------------------------------------------------------')\n",
    "print(pd.get_dummies(train['Embarked'],prefix='Embarked_').head())"
   ]
  },
  {
   "cell_type": "code",
   "execution_count": null,
   "metadata": {},
   "outputs": [],
   "source": [
    "## Finding details of features (Cocentrate on Categorical)\n",
    "print(train.shape)\n",
    "for colname in train.columns:\n",
    "    if train[colname].dtype == 'object':\n",
    "        nUnique = len(train[colname].unique())\n",
    "        #print(train[colname].value_counts())\n",
    "        print('Feature',colname,'has',nUnique, 'unique values')\n",
    "\n",
    "#print(len(train['Embarked'].unique()))\n",
    "#print(train['Embarked'].value_counts())"
   ]
  },
  {
   "cell_type": "code",
   "execution_count": null,
   "metadata": {},
   "outputs": [],
   "source": [
    "print(train['Embarked'].value_counts().sort_values(ascending=False))\n",
    "print('---------------------------------------------------------------')\n",
    "print(train[['Embarked']].isnull().sum())\n",
    "train['Embarked'].fillna('S',inplace=True)\n",
    "print(train[['Embarked']].isnull().sum())\n",
    "train['Embarked'] = train['Embarked'].map({'S':0,'C':1,'Q':2}).astype(int)\n",
    "test['Embarked'] = test['Embarked'].map({'S':0,'C':1,'Q':2}).astype(int)\n",
    "print(train['Embarked'].head())\n",
    "print(train['Embarked'].value_counts().sort_values(ascending=False))"
   ]
  },
  {
   "cell_type": "code",
   "execution_count": null,
   "metadata": {},
   "outputs": [],
   "source": [
    "print(train.shape,test.shape)\n",
    "print(train.isnull().sum())\n",
    "print(test.isnull().sum())"
   ]
  },
  {
   "cell_type": "code",
   "execution_count": null,
   "metadata": {
    "collapsed": true
   },
   "outputs": [],
   "source": [
    "test['Fare'].fillna(inplace=True,value=test['Fare'].mean())\n",
    "train['Age'].fillna(inplace=True,value=train['Age'].median())\n",
    "test['Age'].fillna(inplace=True,value=test['Age'].median())"
   ]
  },
  {
   "cell_type": "code",
   "execution_count": null,
   "metadata": {
    "collapsed": true
   },
   "outputs": [],
   "source": [
    "#print(train.head())\n",
    "train['Sex'] = train['Sex'].map({'female':0,'male':1}).astype(int)\n",
    "test['Sex'] = test['Sex'].map({'female':0,'male':1}).astype(int)"
   ]
  },
  {
   "cell_type": "code",
   "execution_count": null,
   "metadata": {},
   "outputs": [],
   "source": [
    "print(train.head())"
   ]
  },
  {
   "cell_type": "code",
   "execution_count": null,
   "metadata": {
    "collapsed": true
   },
   "outputs": [],
   "source": [
    "train.drop('Cabin',1,inplace=True)\n",
    "test.drop('Cabin',1,inplace=True)"
   ]
  },
  {
   "cell_type": "code",
   "execution_count": null,
   "metadata": {},
   "outputs": [],
   "source": [
    "train.head()\n",
    "#train[['Ticket','Survived']].groupby('Ticket').mean()\n",
    "for i in range(train.shape[0]):\n",
    "    stir = train['Name'][i]\n",
    "    train['Name'][i] = stir.split(' ')[1]\n",
    "print(train['Name'].value_counts())"
   ]
  },
  {
   "cell_type": "code",
   "execution_count": null,
   "metadata": {},
   "outputs": [],
   "source": [
    "for i in range(test.shape[0]):\n",
    "    stir = test['Name'][i]\n",
    "    test['Name'][i] = stir.split(' ')[1]\n",
    "print(test['Name'].value_counts())"
   ]
  },
  {
   "cell_type": "code",
   "execution_count": null,
   "metadata": {
    "collapsed": true
   },
   "outputs": [],
   "source": [
    "891-502-179-121-40-7-6"
   ]
  },
  {
   "cell_type": "code",
   "execution_count": null,
   "metadata": {},
   "outputs": [],
   "source": [
    "for i in [train,test]:\n",
    "    i['Name'] = [x if x in ['Mr.','Miss.','Mrs.','Master.','Dr.','Rev.'] else 'other' for x in i['Name']]\n",
    "print(test['Name'].value_counts())\n",
    "print(train['Name'].value_counts())\n",
    "train1 = train.copy()\n",
    "test1 = test.copy()"
   ]
  },
  {
   "cell_type": "code",
   "execution_count": null,
   "metadata": {
    "scrolled": true
   },
   "outputs": [],
   "source": [
    "lis = ['Name']\n",
    "def getDummies(df,colList):\n",
    "    for i in colList:\n",
    "        df_dummies = pd.get_dummies(df[i], prefix='Name',dummy_na=False)\n",
    "        #print(df_dummies.head())\n",
    "        #i.drop('Name',1,inplace=True)\n",
    "        df = pd.concat([df,df_dummies],axis=1)\n",
    "    return df\n",
    "test1 = getDummies(test1,lis)\n",
    "train1 = getDummies(train1,lis)\n",
    "print(test1.columns,train1.columns)"
   ]
  },
  {
   "cell_type": "code",
   "execution_count": null,
   "metadata": {
    "collapsed": true
   },
   "outputs": [],
   "source": [
    "test1.drop(lis,1,inplace=True)\n",
    "train1.drop(lis,1,inplace=True)"
   ]
  },
  {
   "cell_type": "code",
   "execution_count": null,
   "metadata": {},
   "outputs": [],
   "source": [
    "#train1['Ticket'].sort_values(ascending=False)[:200]\n",
    "lis = []\n",
    "for i in train['Ticket']:\n",
    "    curr = 0\n",
    "    try:\n",
    "        curr = int(i)\n",
    "        lis.append('Int')\n",
    "    except(ValueError):\n",
    "        lis.append('Not int')\n",
    "    #lis.append(type(curr))\n",
    "    #print(type(curr))\n",
    "df = pd.Series(lis)\n",
    "print(df.value_counts())"
   ]
  },
  {
   "cell_type": "code",
   "execution_count": null,
   "metadata": {},
   "outputs": [],
   "source": [
    "train1['tick'] = df\n",
    "train1['tick']"
   ]
  },
  {
   "cell_type": "code",
   "execution_count": null,
   "metadata": {
    "collapsed": true
   },
   "outputs": [],
   "source": [
    "test1.drop('Ticket',1,inplace=True)\n",
    "train1.drop(['Ticket','tick'],1,inplace=True)"
   ]
  },
  {
   "cell_type": "code",
   "execution_count": null,
   "metadata": {
    "collapsed": true
   },
   "outputs": [],
   "source": [
    "test1.drop('PassengerId',1,inplace=True)\n",
    "train1.drop(['PassengerId'],1,inplace=True)"
   ]
  },
  {
   "cell_type": "code",
   "execution_count": null,
   "metadata": {
    "collapsed": true
   },
   "outputs": [],
   "source": [
    "from sklearn.metrics import accuracy_score, log_loss\n",
    "from sklearn.neighbors import KNeighborsClassifier\n",
    "from sklearn.svm import SVC\n",
    "from sklearn.tree import DecisionTreeClassifier\n",
    "from sklearn.ensemble import RandomForestClassifier, AdaBoostClassifier, GradientBoostingClassifier\n",
    "from sklearn.naive_bayes import GaussianNB\n",
    "from sklearn.discriminant_analysis import LinearDiscriminantAnalysis, QuadraticDiscriminantAnalysis\n",
    "from sklearn.linear_model import LogisticRegression"
   ]
  },
  {
   "cell_type": "code",
   "execution_count": null,
   "metadata": {
    "collapsed": true
   },
   "outputs": [],
   "source": [
    "classifiers = [\n",
    "    KNeighborsClassifier(3),\n",
    "    SVC(probability=True),\n",
    "    DecisionTreeClassifier(),\n",
    "    RandomForestClassifier(),\n",
    "\tAdaBoostClassifier(),\n",
    "    GradientBoostingClassifier(),\n",
    "    GaussianNB(),\n",
    "    LinearDiscriminantAnalysis(),\n",
    "    QuadraticDiscriminantAnalysis(),\n",
    "    LogisticRegression()]"
   ]
  },
  {
   "cell_type": "code",
   "execution_count": null,
   "metadata": {
    "collapsed": true
   },
   "outputs": [],
   "source": [
    "trainX = train1.drop('Survived',1)\n",
    "trainY = train1['Survived']\n",
    "testData = test1"
   ]
  },
  {
   "cell_type": "code",
   "execution_count": null,
   "metadata": {
    "collapsed": true
   },
   "outputs": [],
   "source": []
  },
  {
   "cell_type": "code",
   "execution_count": null,
   "metadata": {
    "collapsed": true
   },
   "outputs": [],
   "source": [
    "acc_dict = {}\n",
    "log_cols = [\"Classifier\", \"Accuracy\"]"
   ]
  },
  {
   "cell_type": "code",
   "execution_count": null,
   "metadata": {
    "collapsed": true,
    "scrolled": true
   },
   "outputs": [],
   "source": [
    "for trIndex,tsIndex in sss.split(trainX,trainY):\n",
    "    Xtrain, Xtest = trainX.iloc[trIndex,],trainX.iloc[tsIndex,]\n",
    "    Ytrain, Ytest = trainY[trIndex],trainY[tsIndex]\n",
    "    \n",
    "    for i,clf in enumerate(classifiers):\n",
    "        name = clf.__class__.__name__\n",
    "        clf.fit(Xtrain, Ytrain)\n",
    "        testPred = clf.predict(Xtest)\n",
    "        acc = accuracy_score(Ytest, testPred)\n",
    "        if name in acc_dict:\n",
    "            acc_dict[name] += acc\n",
    "        else:\n",
    "            acc_dict[name] = acc\n",
    "#print(acc_dict)\"\n",
    "log  = pd.DataFrame(acc_dict)\n",
    "print(log)"
   ]
  },
  {
   "cell_type": "code",
   "execution_count": null,
   "metadata": {},
   "outputs": [],
   "source": []
  },
  {
   "cell_type": "code",
   "execution_count": null,
   "metadata": {
    "scrolled": false
   },
   "outputs": [],
   "source": [
    "selectedParams = ['Sex']\n",
    "#finalCLF = LogisticRegression()\n",
    "finalCLF = SVC(tol=1e-75,verbose=True,probability=True)\n",
    "finalCLF.fit(trainX,trainY)\n",
    "preds = finalCLF.predict(testData)\n",
    "submission = pd.read_csv('C:\\\\Users\\\\venka\\\\Desktop\\\\Kaggle\\\\Titanic\\\\submission.csv')\n",
    "submission['Survived'] = preds\n",
    "print(submission.describe())\n",
    "submission.to_csv('C:\\\\Users\\\\venka\\\\Desktop\\\\Kaggle\\\\Titanic\\\\CleanedData_SVC.csv',index=False)"
   ]
  },
  {
   "cell_type": "code",
   "execution_count": null,
   "metadata": {
    "collapsed": true
   },
   "outputs": [],
   "source": [
    "55/8"
   ]
  },
  {
   "cell_type": "code",
   "execution_count": null,
   "metadata": {
    "collapsed": true
   },
   "outputs": [],
   "source": []
  }
 ],
 "metadata": {
  "kernelspec": {
   "display_name": "Python 3",
   "language": "python",
   "name": "python3"
  },
  "language_info": {
   "codemirror_mode": {
    "name": "ipython",
    "version": 3
   },
   "file_extension": ".py",
   "mimetype": "text/x-python",
   "name": "python",
   "nbconvert_exporter": "python",
   "pygments_lexer": "ipython3",
   "version": "3.6.1"
  }
 },
 "nbformat": 4,
 "nbformat_minor": 2
}
